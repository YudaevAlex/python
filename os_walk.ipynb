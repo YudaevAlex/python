{
 "cells": [
  {
   "cell_type": "code",
   "execution_count": 2,
   "metadata": {
    "collapsed": true
   },
   "outputs": [],
   "source": [
    "import os"
   ]
  },
  {
   "cell_type": "code",
   "execution_count": 5,
   "metadata": {},
   "outputs": [],
   "source": [
    "def total_size(root):\n",
    "  total = 0\n",
    "  for dir, _, files in os.walk(root):\n",
    "    for fn in files:\n",
    "      total += os.path.getsize(os.path.join(dir, fn))\n",
    "  return total"
   ]
  },
  {
   "cell_type": "code",
   "execution_count": 7,
   "metadata": {},
   "outputs": [
    {
     "data": {
      "text/plain": [
       "4008893388"
      ]
     },
     "execution_count": 7,
     "metadata": {},
     "output_type": "execute_result"
    }
   ],
   "source": [
    "total_size('D:/')"
   ]
  },
  {
   "cell_type": "code",
   "execution_count": 10,
   "metadata": {},
   "outputs": [
    {
     "ename": "TypeError",
     "evalue": "can only concatenate list (not \"str\") to list",
     "output_type": "error",
     "traceback": [
      "\u001b[1;31m---------------------------------------------------------------------------\u001b[0m",
      "\u001b[1;31mTypeError\u001b[0m                                 Traceback (most recent call last)",
      "\u001b[1;32m<ipython-input-10-43dbd88d6540>\u001b[0m in \u001b[0;36m<module>\u001b[1;34m()\u001b[0m\n\u001b[0;32m      2\u001b[0m \u001b[1;32mfor\u001b[0m \u001b[0mroot\u001b[0m\u001b[1;33m,\u001b[0m \u001b[0mdirs\u001b[0m\u001b[1;33m,\u001b[0m \u001b[0mfiles\u001b[0m \u001b[1;32min\u001b[0m \u001b[0mos\u001b[0m\u001b[1;33m.\u001b[0m\u001b[0mwalk\u001b[0m\u001b[1;33m(\u001b[0m\u001b[1;34m\"D:\"\u001b[0m\u001b[1;33m)\u001b[0m\u001b[1;33m:\u001b[0m\u001b[1;33m\u001b[0m\u001b[0m\n\u001b[0;32m      3\u001b[0m     \u001b[1;32mfor\u001b[0m \u001b[0mfilename\u001b[0m \u001b[1;32min\u001b[0m \u001b[0mfiles\u001b[0m\u001b[1;33m:\u001b[0m\u001b[1;33m\u001b[0m\u001b[0m\n\u001b[1;32m----> 4\u001b[1;33m         \u001b[0mprint\u001b[0m\u001b[1;33m(\u001b[0m\u001b[0mdirs\u001b[0m \u001b[1;33m+\u001b[0m\u001b[1;34m'_'\u001b[0m\u001b[1;33m+\u001b[0m \u001b[0mfilename\u001b[0m\u001b[1;33m)\u001b[0m\u001b[1;33m\u001b[0m\u001b[0m\n\u001b[0m",
      "\u001b[1;31mTypeError\u001b[0m: can only concatenate list (not \"str\") to list"
     ]
    }
   ],
   "source": [
    "import os\n",
    "for root, dirs, files in os.walk(\"D:\"):  \n",
    "    for filename in files:\n",
    "        print(filename)"
   ]
  },
  {
   "cell_type": "code",
   "execution_count": 22,
   "metadata": {},
   "outputs": [
    {
     "name": "stdout",
     "output_type": "stream",
     "text": [
      "//dprcdbpt/UOIP_FILES/Архив БД/Юдаев/info\n",
      "//dprcdbpt/UOIP_FILES/Архив БД/Юдаев/info\\R\n",
      "//dprcdbpt/UOIP_FILES/Архив БД/Юдаев/info\\SISS\n",
      "//dprcdbpt/UOIP_FILES/Архив БД/Юдаев/info\\SQL\n",
      "//dprcdbpt/UOIP_FILES/Архив БД/Юдаев/info\\Win\n",
      "//dprcdbpt/UOIP_FILES/Архив БД/Юдаев/info\\Win\\Новая папка\n"
     ]
    }
   ],
   "source": [
    "import os\n",
    "for root, dirs, files in os.walk(\"//dprcdbpt/UOIP_FILES/Архив БД/Юдаев/info\"):  \n",
    "    print(root)"
   ]
  },
  {
   "cell_type": "code",
   "execution_count": 98,
   "metadata": {
    "scrolled": true
   },
   "outputs": [
    {
     "name": "stdout",
     "output_type": "stream",
     "text": [
      "//dprcdbpt/UOIP_FILES/Архив БД/Юдаев/УС\n",
      " УС     0.000 Mb\n",
      "//dprcdbpt/UOIP_FILES/Архив БД/Юдаев/УС\\source data\n",
      "--- source data    22.061 Mb\n",
      "//dprcdbpt/UOIP_FILES/Архив БД/Юдаев/УС\\source data\\old\n",
      "------ old     0.000 Mb\n",
      "//dprcdbpt/UOIP_FILES/Архив БД/Юдаев/УС\\отчеты nov des 2016\n",
      "--- отчеты nov des 2016     0.937 Mb\n",
      "//dprcdbpt/UOIP_FILES/Архив БД/Юдаев/УС\\отчеты nov des 2016\\1и 2. ОНФ Самары рост продаж продуктов МБ (РКО и др.)\n",
      "------ 1и 2. ОНФ Самары рост продаж продуктов МБ (РКО и др.)    15.672 Mb\n",
      "//dprcdbpt/UOIP_FILES/Архив БД/Юдаев/УС\\отчеты nov des 2016\\1и 2. ОНФ Самары рост продаж продуктов МБ (РКО и др.)\\исходные данные\n",
      "--------- исходные данные     1.686 Mb\n",
      "//dprcdbpt/UOIP_FILES/Архив БД/Юдаев/УС\\отчеты nov des 2016\\5. ККО Самары кол-во кросс продаж продуктов РБ на поток уникальных клиентов МБСКБКБ\n",
      "------ 5. ККО Самары кол-во кросс продаж продуктов РБ на поток уникальных клиентов МБСКБКБ     0.000 Mb\n",
      "//dprcdbpt/UOIP_FILES/Архив БД/Юдаев/УС\\отчеты nov des 2016\\5. ККО Самары кол-во кросс продаж продуктов РБ на поток уникальных клиентов МБСКБКБ\\пенетрация\n",
      "--------- пенетрация     2.238 Mb\n",
      "//dprcdbpt/UOIP_FILES/Архив БД/Юдаев/УС\\отчеты nov des 2016\\5. ККО Самары кол-во кросс продаж продуктов РБ на поток уникальных клиентов МБСКБКБ\\пенетрация\\Old\n",
      "------------ Old     0.500 Mb\n",
      "//dprcdbpt/UOIP_FILES/Архив БД/Юдаев/УС\\отчеты nov des 2016\\6. ККО Тольятти кол-во продаж РКО в месяц\n",
      "------ 6. ККО Тольятти кол-во продаж РКО в месяц     0.000 Mb\n",
      "//dprcdbpt/UOIP_FILES/Архив БД/Юдаев/УС\\пенетрация и сегменты\n",
      "--- пенетрация и сегменты    72.267 Mb\n",
      "//dprcdbpt/UOIP_FILES/Архив БД/Юдаев/УС\\пенетрация и сегменты\\backup\n",
      "------ backup     0.012 Mb\n",
      "//dprcdbpt/UOIP_FILES/Архив БД/Юдаев/УС\\пенетрация и сегменты\\job\n",
      "------ job     0.032 Mb\n"
     ]
    }
   ],
   "source": [
    "import os\n",
    "\n",
    "# traverse root directory, and list directories as dirs and files as files\n",
    "for root, dirs, files in os.walk(\"//dprcdbpt/UOIP_FILES/Архив БД/Юдаев/УС\"):\n",
    "    path = root.split(os.sep)\n",
    "    print(root)\n",
    "    total = 0\n",
    "    for file in files:\n",
    "#         print(file)\n",
    "        total += os.path.getsize(os.path.join(root, file))\n",
    "    print((len(path) - 1) * '---', os.path.basename(root) + \"%10.3f\" % (total / 2**20)+' Mb')"
   ]
  },
  {
   "cell_type": "code",
   "execution_count": null,
   "metadata": {
    "collapsed": true
   },
   "outputs": [],
   "source": [
    "folder_size = os.path.getsize(filename)"
   ]
  },
  {
   "cell_type": "code",
   "execution_count": 30,
   "metadata": {},
   "outputs": [],
   "source": [
    "f = os.path.getsize(\"//dprcdbpt/UOIP_FILES/Архив БД/Юдаев/валютные платежи/Cписов клиентов ВЭД на 16.03.2017.xls\")"
   ]
  },
  {
   "cell_type": "code",
   "execution_count": 37,
   "metadata": {},
   "outputs": [
    {
     "name": "stdout",
     "output_type": "stream",
     "text": [
      "Мегабайты:      2.198 Mb\n"
     ]
    }
   ],
   "source": [
    "print(\"Мегабайты: %10.3f\" % (f / 2**20)+' Mb')"
   ]
  },
  {
   "cell_type": "code",
   "execution_count": 66,
   "metadata": {
    "collapsed": true
   },
   "outputs": [],
   "source": [
    "def get_nested_counts(rootdir):\n",
    "    def count_subdirs(dirs, depth):\n",
    "        if len(counts) == depth:\n",
    "            counts.append([])  # add new deeper level\n",
    "        counts[depth].append(len(dirs))\n",
    "        for path in dirs:\n",
    "            subdirs = [entry for entry in os.scandir(path)\n",
    "                       if entry.is_dir(follow_symlinks=False)]\n",
    "            if subdirs:  # if there are subdirs\n",
    "                count_subdirs(subdirs, depth + 1)  # make recursive call\n",
    "\n",
    "    counts = []\n",
    "    count_subdirs([rootdir], 0)\n",
    "    return counts"
   ]
  },
  {
   "cell_type": "code",
   "execution_count": 73,
   "metadata": {},
   "outputs": [],
   "source": [
    "import os.path as path\n",
    "import sys\n",
    "\n",
    "two_up =  path.abspath(path.join(\"//dprcdbpt/UOIP_FILES/Архив БД/Юдаев/валютные платежи/Cписов клиентов ВЭД на 16.03.2017.xls\" ,\"../..\"))"
   ]
  },
  {
   "cell_type": "code",
   "execution_count": null,
   "metadata": {
    "collapsed": true
   },
   "outputs": [],
   "source": []
  },
  {
   "cell_type": "code",
   "execution_count": 96,
   "metadata": {
    "collapsed": true
   },
   "outputs": [],
   "source": [
    "import glob,os.path\n",
    "filesDepth3 = glob.glob('*/*')\n",
    "dirsDepth3 = filter(lambda f: os.path.isdir(f), filesDepth3)"
   ]
  },
  {
   "cell_type": "code",
   "execution_count": 97,
   "metadata": {},
   "outputs": [
    {
     "data": {
      "text/plain": [
       "['ADClub\\\\20170906_DT_example.ipynb',\n",
       " 'ADClub\\\\20170928_insurance_hw.ipynb',\n",
       " 'ADClub\\\\hw_test.csv',\n",
       " 'ADClub\\\\hw_train.csv',\n",
       " 'ADClub\\\\train.csv',\n",
       " 'AppData\\\\Local',\n",
       " 'AppData\\\\LocalLow',\n",
       " 'AppData\\\\Roaming',\n",
       " 'OpenDataScience\\\\mlcourse_open-master',\n",
       " 'Oracle\\\\oradiag_u_m0u1f']"
      ]
     },
     "execution_count": 97,
     "metadata": {},
     "output_type": "execute_result"
    }
   ],
   "source": [
    "filesDepth3"
   ]
  },
  {
   "cell_type": "code",
   "execution_count": 100,
   "metadata": {},
   "outputs": [
    {
     "name": "stdout",
     "output_type": "stream",
     "text": [
      "Thu Sep 28 10:13:52 2017 ntuser.ini\n",
      "Tue Oct  3 10:59:17 2017 ntuser.pol\n",
      "Mon Oct  9 09:13:00 2017 NTUSER.DAT{6cced2f1-6e01-11de-8bed-001e0bcd1824}.TM.blf\n",
      "Mon Oct  9 09:13:00 2017 NTUSER.DAT{6cced2f1-6e01-11de-8bed-001e0bcd1824}.TMContainer00000000000000000001.regtrans-ms\n",
      "Mon Oct  9 09:13:00 2017 NTUSER.DAT{6cced2f1-6e01-11de-8bed-001e0bcd1824}.TMContainer00000000000000000002.regtrans-ms\n",
      "Mon Oct  9 09:13:00 2017 ntuser.dat.LOG1\n",
      "Mon Oct  9 09:13:00 2017 ntuser.dat.LOG2\n",
      "Fri Nov  3 16:10:09 2017 Untitled.ipynb\n",
      "Mon Nov 13 13:12:49 2017 Untitled1.ipynb\n",
      "Mon Nov 13 13:12:49 2017 Untitled2.ipynb\n",
      "Mon Nov 13 13:43:39 2017 Untitled3.ipynb\n",
      "Tue Nov 14 16:09:36 2017 Untitled4.ipynb\n",
      "Wed Dec  6 10:44:09 2017 Untitled5.ipynb\n",
      "Wed Dec  6 10:44:11 2017 Untitled6.ipynb\n",
      "Wed Dec  6 12:26:39 2017 Untitled7.ipynb\n",
      "Fri Dec 15 16:57:53 2017 NTUSER.DAT\n",
      "Fri Dec 22 13:53:37 2017 01_n.png\n",
      "Fri Dec 22 13:53:37 2017 07.png\n",
      "Fri Dec 22 14:03:53 2017 2.3 Сопоставление фотографий Прокудина-Горского.ipynb\n",
      "Wed Jan 10 13:23:25 2018 Untitled8.ipynb\n",
      "Wed Jan 10 13:33:42 2018 Untitled9.ipynb\n",
      "Wed Jan 10 13:33:43 2018 20170818_chat.ipynb\n",
      "Wed Jan 10 13:33:44 2018 20170814_classification_script.ipynb\n",
      "Wed Jan 10 13:43:54 2018 concat_excel.ipynb\n",
      "Wed Jan 17 13:33:44 2018 CHAT_classification_script_n.ipynb\n",
      "Wed Mar 14 11:01:41 2018 Untitled10.ipynb\n",
      "Wed Mar 14 11:14:12 2018 Untitled11.ipynb\n"
     ]
    }
   ],
   "source": [
    "from stat import S_ISREG, ST_CTIME, ST_MODE\n",
    "import os, sys, time\n",
    "\n",
    "# path to the directory (relative or absolute)\n",
    "dirpath = sys.argv[1] if len(sys.argv) == 2 else r'.'\n",
    "\n",
    "# get all entries in the directory w/ stats\n",
    "entries = (os.path.join(dirpath, fn) for fn in os.listdir(dirpath))\n",
    "entries = ((os.stat(path), path) for path in entries)\n",
    "\n",
    "# leave only regular files, insert creation date\n",
    "entries = ((stat[ST_CTIME], path)\n",
    "           for stat, path in entries if S_ISREG(stat[ST_MODE]))\n",
    "#NOTE: on Windows `ST_CTIME` is a creation date \n",
    "#  but on Unix it could be something else\n",
    "#NOTE: use `ST_MTIME` to sort by a modification date\n",
    "\n",
    "for cdate, path in sorted(entries):\n",
    "    print(time.ctime(cdate), os.path.basename(path))"
   ]
  },
  {
   "cell_type": "code",
   "execution_count": null,
   "metadata": {
    "collapsed": true
   },
   "outputs": [],
   "source": []
  }
 ],
 "metadata": {
  "kernelspec": {
   "display_name": "Python 3",
   "language": "python",
   "name": "python3"
  },
  "language_info": {
   "codemirror_mode": {
    "name": "ipython",
    "version": 3
   },
   "file_extension": ".py",
   "mimetype": "text/x-python",
   "name": "python",
   "nbconvert_exporter": "python",
   "pygments_lexer": "ipython3",
   "version": "3.6.2"
  }
 },
 "nbformat": 4,
 "nbformat_minor": 2
}
