{
 "cells": [
  {
   "cell_type": "code",
   "execution_count": null,
   "metadata": {
    "collapsed": true
   },
   "outputs": [],
   "source": [
    "import pymssql as ps\n",
    "import numpy as np\n",
    "import pandas as pd\n",
    "conn = ps.connect('DPRCDBPT') #Создаем соединение с нашей базой данных\n",
    "cur = conn.cursor() # Создаем курсор - это специальный объект который делает запросы и получает их результаты       \n",
    "frame = pd.read_excel('D:/CPK_2017_11_.xlsx')"
   ]
  },
  {
   "cell_type": "code",
   "execution_count": null,
   "metadata": {
    "collapsed": true
   },
   "outputs": [],
   "source": [
    "#https://stackoverflow.com/questions/11314693/can-i-export-a-python-pandas-dataframe-to-ms-sql\n",
    "#http://python-3.ru/page/sqlite-create-table-last-insert-id"
   ]
  },
  {
   "cell_type": "code",
   "execution_count": null,
   "metadata": {
    "collapsed": true
   },
   "outputs": [],
   "source": [
    "frame_db = frame[['ID отметки', 'Pin EQ', 'id клиента', 'Дата', 'Подтема', 'Сегмент', 'Тема']]"
   ]
  },
  {
   "cell_type": "code",
   "execution_count": null,
   "metadata": {
    "collapsed": true
   },
   "outputs": [],
   "source": [
    "# frame is your dataframe\n",
    "wildcards = ','.join(['%s'] * len(frame_db.columns))\n",
    "data = [tuple(x) for x in frame_db.fillna('пусто').values] #\n",
    "table_name = 'AUDAEV.dbo.dash_voc_sour_cpk_new_hist_n'"
   ]
  },
  {
   "cell_type": "code",
   "execution_count": null,
   "metadata": {
    "collapsed": true
   },
   "outputs": [],
   "source": [
    "cur.executemany(\"INSERT INTO %s VALUES(%s)\" % (table_name, wildcards), data)\n",
    "conn.commit()"
   ]
  },
  {
   "cell_type": "code",
   "execution_count": null,
   "metadata": {
    "collapsed": true
   },
   "outputs": [],
   "source": [
    "#cur.executemany(\"INSERT INTO AUDAEV.dbo.dash_voc_sour_cpk_new_hist_n ([Pin EQ], [Подтема]) VALUES (%s, %s);\", data)\n",
    "#conn.commit()"
   ]
  },
  {
   "cell_type": "code",
   "execution_count": null,
   "metadata": {
    "collapsed": true
   },
   "outputs": [],
   "source": [
    "conn.close()"
   ]
  }
 ],
 "metadata": {
  "kernelspec": {
   "display_name": "Python [default]",
   "language": "python",
   "name": "python3"
  },
  "language_info": {
   "codemirror_mode": {
    "name": "ipython",
    "version": 3
   },
   "file_extension": ".py",
   "mimetype": "text/x-python",
   "name": "python",
   "nbconvert_exporter": "python",
   "pygments_lexer": "ipython3",
   "version": "3.5.2"
  }
 },
 "nbformat": 4,
 "nbformat_minor": 1
}
