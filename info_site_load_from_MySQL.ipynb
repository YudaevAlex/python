{
 "cells": [
  {
   "cell_type": "code",
   "execution_count": 4,
   "metadata": {
    "collapsed": false
   },
   "outputs": [],
   "source": [
    "import mysql.connector"
   ]
  },
  {
   "cell_type": "code",
   "execution_count": 5,
   "metadata": {
    "collapsed": false
   },
   "outputs": [],
   "source": [
    "import pandas as pd\n",
    "cnx = mysql.connector.connect(user='root', password='',\n",
    "                              host='localhost',\n",
    "                              database='site201812')"
   ]
  },
  {
   "cell_type": "code",
   "execution_count": 6,
   "metadata": {
    "collapsed": false
   },
   "outputs": [],
   "source": [
    "theme = pd.read_sql('select * from question_theme', cnx)\n",
    "all_data = pd.read_sql('select * from question', cnx)"
   ]
  },
  {
   "cell_type": "code",
   "execution_count": 9,
   "metadata": {
    "collapsed": true
   },
   "outputs": [],
   "source": [
    "all_data['month'] = all_data['published'].dt.month\n",
    "all_data['year'] = all_data['published'].dt.year\n",
    "all_data_site = all_data[(all_data['month'].isin([12])) & (all_data['year']==2017)].reset_index(drop=True)\n",
    "theme_cut = theme[['question_theme_id', 'name']]\n",
    "all_data_site = pd.merge(all_data_site, theme_cut, on='question_theme_id', how='left')"
   ]
  },
  {
   "cell_type": "code",
   "execution_count": 16,
   "metadata": {
    "collapsed": false
   },
   "outputs": [
    {
     "name": "stderr",
     "output_type": "stream",
     "text": [
      "C:\\Users\\U_M0U1F\\Python\\lib\\site-packages\\xlsxwriter\\worksheet.py:829: UserWarning: Ignoring URL 'http://ufa-sintez.ru/cataog/plnka-pvd/%20\n",
      "http://ufa-sintez.ru/catlog/poliers/%20\n",
      "http://ufa-sintez.ru/catlog/vtorichoe-polimernoe-syre/%20\n",
      "http://ufa-sintez.ru/caalog/proizodstvo-trub/%20\n",
      "http://ufa-sintez.ru/pasorta-kachetva/ufaorgsintez/%20\n",
      "http://ufa-sintez.ru/psporta-kachetva/salavatnefteorgsintez/%20\n",
      "http://ufa-sintez.ru/ctaog/%20\n",
      "http://ufa-sintez.ru/papota-kchestva/%20\n",
      "http://ufa-sintez.ru/ds/%20\n",
      "http://ufa-sintez.ru/dos/kaa-partnera/%20\n",
      "http://ufa-sintez.ru/dcs/sav/%20\n",
      "http://ufa-sintez.ru/dcs/kupki/%20\n",
      "http://ufa-sintez.ru/dcs/vansii/' with link or location/anchor > 255 characters since it exceeds Excel's limit for URLS\n",
      "  force_unicode(url))\n",
      "C:\\Users\\U_M0U1F\\Python\\lib\\site-packages\\xlsxwriter\\worksheet.py:829: UserWarning: Ignoring URL 'http://ufa-sintez.ru/catalog/plnka-pvd/%20\n",
      "http://ufa-sintez.ru/catalog/poliers/%20\n",
      "http://ufa-sintez.ru/catalog/vtorichoe-polimernoe-syre/%20\n",
      "http://ufa-sintez.ru/catalog/proizodstvo-trub/%20\n",
      "http://ufa-sintez.ru/pasporta-kachetva/ufaorgsintez/%20\n",
      "http://ufa-sintez.ru/pasporta-kachetva/salavatnefteorgsintez/%20\n",
      "http://ufa-sintez.ru/cataog/%20\n",
      "http://ufa-sintez.ru/pasporta-kchestva/%20\n",
      "http://ufa-sintez.ru/dos/%20\n",
      "http://ufa-sintez.ru/docs/kata-partnera/%20\n",
      "http://ufa-sintez.ru/docs/stav/%20\n",
      "http://ufa-sintez.ru/docs/zkupki/%20\n",
      "http://ufa-sintez.ru/docs/vaknsii/' with link or location/anchor > 255 characters since it exceeds Excel's limit for URLS\n",
      "  force_unicode(url))\n",
      "C:\\Users\\U_M0U1F\\Python\\lib\\site-packages\\xlsxwriter\\worksheet.py:829: UserWarning: Ignoring URL 'https://alfabank.ru/moscow/press/news/2017/11/27/41617.html\n",
      "Согласно%20данного%20заявления%20ЛЮБОЙ%20гражданин%20по%20предъявлению%20паспорта%20может%20обменять%20мелочь%20на%20банкноты%20и%20монеты,%20посвященные%20чемпионату%20мира%20по%20футболу%202018.%20Существует%203%20разновидности%20монет%20номиналом%2025%20рублей%20и%201%20банкнота%20номиналом%20100%20рублей.%20Хотел%20иметь%20их%20в%20%20своей%20коллекции.%20В%20Тюмени%20осуществить%20обмен%20можно%20в%20отделении%20Альфа-Банка%20%20по%20адресу:%20ул.Республики,%20д.162.%20В%20оказании%20данной%20услуги%20мне%20было%20отказано.%20Сначала%20мне%20сказали%20что%20в%20наличии%20имеется%20только%20один%20вид%20монеты,%20других%20монет%20и%20банкнот%20нет.%20А%20потом%20заявили,%20что%20обмен%20производится%20только%20клиентам%20банка,%20которым%20я%20не%20являюсь.%20Прошу%20Вас%20пояснить%20почему%20%22слово%22%20официальных%20представителей%20Альфа-Банка%20расходится%20с%20%22делом%22%20исполнителей%20на%20местах?' with link or location/anchor > 255 characters since it exceeds Excel's limit for URLS\n",
      "  force_unicode(url))\n",
      "C:\\Users\\U_M0U1F\\Python\\lib\\site-packages\\xlsxwriter\\worksheet.py:829: UserWarning: Ignoring URL 'http://mepic.ru/view/?id=b81efa7b4dafafc954530d2d6de4e2bb%20%20.%20Я%20проживаю%20по%20месту%20своей%20%20работы%20и%20регистрации%20%20,%20но%20юридический%20и%20фактический%20адрес%20организации%20в%20Московской%20области%20.%20И%20как%20теперь%20правильно%20заполнить%20анкету%20?' with link or location/anchor > 255 characters since it exceeds Excel's limit for URLS\n",
      "  force_unicode(url))\n",
      "C:\\Users\\U_M0U1F\\Python\\lib\\site-packages\\xlsxwriter\\worksheet.py:829: UserWarning: Ignoring URL 'https://anketa.alfabank.ru/alfaform_dc/draft/5F8ADBB8F6B91B1DE0543863BB4C2866?fromEmail=true\n",
      "\n",
      "в%20условиях%20приложенном%20к%20этому%20заявлению%20на%20дебетовую%20карту,%20в%20пункте%204%20предложение%202,%20слово%20заявитель%20без%20заглавной%20буквы%20%22З%22.%20Глупая%20ошибка,%20прошу%20исправить.%20' with link or location/anchor > 255 characters since it exceeds Excel's limit for URLS\n",
      "  force_unicode(url))\n",
      "C:\\Users\\U_M0U1F\\Python\\lib\\site-packages\\xlsxwriter\\worksheet.py:829: UserWarning: Ignoring URL 'http://bit.ly/2gQNdP3%20-%20зимние%20куртки%20мужские\n",
      "заказать!%20\n",
      "Наши%20товары:%20одежда,%20футболки,%20майки,%20толстовки,%20свитшоты,%20верхняя%20одежда,%20шорты,%20спортивные%20брюки,%20одежда%20для%20беременных,женский%20интернет%20магазин\n",
      "%20%20и%20многое%20другое!%20\n",
      "*&$*' with link or location/anchor > 255 characters since it exceeds Excel's limit for URLS\n",
      "  force_unicode(url))\n"
     ]
    }
   ],
   "source": [
    "all_data_site.to_excel('site_201712.xlsx', index=False)"
   ]
  },
  {
   "cell_type": "code",
   "execution_count": null,
   "metadata": {
    "collapsed": true
   },
   "outputs": [],
   "source": []
  }
 ],
 "metadata": {
  "anaconda-cloud": {},
  "kernelspec": {
   "display_name": "Python [default]",
   "language": "python",
   "name": "python3"
  },
  "language_info": {
   "codemirror_mode": {
    "name": "ipython",
    "version": 3
   },
   "file_extension": ".py",
   "mimetype": "text/x-python",
   "name": "python",
   "nbconvert_exporter": "python",
   "pygments_lexer": "ipython3",
   "version": "3.5.2"
  }
 },
 "nbformat": 4,
 "nbformat_minor": 1
}
