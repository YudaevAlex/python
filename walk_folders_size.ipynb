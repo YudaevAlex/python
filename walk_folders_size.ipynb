{
 "cells": [
  {
   "cell_type": "code",
   "execution_count": 2,
   "metadata": {
    "collapsed": true
   },
   "outputs": [],
   "source": [
    "import os"
   ]
  },
  {
   "cell_type": "code",
   "execution_count": 3,
   "metadata": {
    "collapsed": true
   },
   "outputs": [],
   "source": [
    "basedir = \"//dprcdbpt/UOIP_FILES/Архив БД/\""
   ]
  },
  {
   "cell_type": "code",
   "execution_count": 13,
   "metadata": {
    "collapsed": true
   },
   "outputs": [],
   "source": [
    "#basedir = \"//dprcdbpt/UOIP_FILES/Архив БД//Юдаев\""
   ]
  },
  {
   "cell_type": "code",
   "execution_count": 15,
   "metadata": {
    "collapsed": false
   },
   "outputs": [
    {
     "name": "stdout",
     "output_type": "stream",
     "text": [
      "//dprcdbpt/UOIP_FILES/Архив БД//Юдаев\\ADM;     49.202; err_number = 0;\n",
      "//dprcdbpt/UOIP_FILES/Архив БД//Юдаев\\Branch;      0.870; err_number = 0;\n",
      "//dprcdbpt/UOIP_FILES/Архив БД//Юдаев\\branch.xlsx;      0.000; err_number = 0;\n",
      "//dprcdbpt/UOIP_FILES/Архив БД//Юдаев\\branch_new.xlsx;      0.000; err_number = 0;\n",
      "//dprcdbpt/UOIP_FILES/Архив БД//Юдаев\\DMLM_20180202.checked.xlsx;      0.000; err_number = 0;\n",
      "//dprcdbpt/UOIP_FILES/Архив БД//Юдаев\\DWH wrpn.nrb описание.doc;      0.000; err_number = 0;\n",
      "//dprcdbpt/UOIP_FILES/Архив БД//Юдаев\\DWH.ACRMDM-FSD-14-(Пластиковые карты)_v5.6.doc;      0.000; err_number = 0;\n",
      "//dprcdbpt/UOIP_FILES/Архив БД//Юдаев\\DWH.RBDM-FSD-16-(Кредиты ФЛ)_v10.0.docx;      0.000; err_number = 0;\n",
      "//dprcdbpt/UOIP_FILES/Архив БД//Юдаев\\ID01568-PC16 Миграция Клиентов из каналов физического присутствия в УКД без ИТ-доработок;     91.388; err_number = 0;\n",
      "//dprcdbpt/UOIP_FILES/Архив БД//Юдаев\\info;     22.893; err_number = 0;\n",
      "//dprcdbpt/UOIP_FILES/Архив БД//Юдаев\\Info_server.txt;      0.000; err_number = 0;\n",
      "//dprcdbpt/UOIP_FILES/Архив БД//Юдаев\\Maps;      0.001; err_number = 0;\n",
      "//dprcdbpt/UOIP_FILES/Архив БД//Юдаев\\Minitab;      3.195; err_number = 0;\n",
      "//dprcdbpt/UOIP_FILES/Архив БД//Юдаев\\old ALFA job;     49.352; err_number = 0;\n",
      "//dprcdbpt/UOIP_FILES/Архив БД//Юдаев\\ORACLE;     18.203; err_number = 0;\n",
      "//dprcdbpt/UOIP_FILES/Архив БД//Юдаев\\other;      1.614; err_number = 0;\n",
      "//dprcdbpt/UOIP_FILES/Архив БД//Юдаев\\PEGANRB_R.txt;      0.000; err_number = 0;\n",
      "//dprcdbpt/UOIP_FILES/Архив БД//Юдаев\\PnL15 для ДРБ.xlsx;      0.000; err_number = 0;\n",
      "//dprcdbpt/UOIP_FILES/Архив БД//Юдаев\\python;     55.229; err_number = 0;\n",
      "//dprcdbpt/UOIP_FILES/Архив БД//Юдаев\\Reports;      0.856; err_number = 0;\n",
      "//dprcdbpt/UOIP_FILES/Архив БД//Юдаев\\SQL;      2.313; err_number = 0;\n",
      "//dprcdbpt/UOIP_FILES/Архив БД//Юдаев\\SSIS;     23.655; err_number = 0;\n",
      "//dprcdbpt/UOIP_FILES/Архив БД//Юдаев\\Thumbs.db;      0.000; err_number = 0;\n",
      "//dprcdbpt/UOIP_FILES/Архив БД//Юдаев\\tmp;   2455.138; err_number = 0;\n",
      "//dprcdbpt/UOIP_FILES/Архив БД//Юдаев\\tnsnames_old_2018_03_01.ora;      0.000; err_number = 0;\n",
      "//dprcdbpt/UOIP_FILES/Архив БД//Юдаев\\train_albo_v4.xlsx;      0.000; err_number = 0;\n",
      "//dprcdbpt/UOIP_FILES/Архив БД//Юдаев\\АБ-ДИРпроцесс.png;      0.000; err_number = 0;\n",
      "//dprcdbpt/UOIP_FILES/Архив БД//Юдаев\\Анализ недозвонов;    187.841; err_number = 0;\n",
      "//dprcdbpt/UOIP_FILES/Архив БД//Юдаев\\валютные платежи;    194.065; err_number = 0;\n",
      "//dprcdbpt/UOIP_FILES/Архив БД//Юдаев\\ГП;      0.025; err_number = 0;\n",
      "//dprcdbpt/UOIP_FILES/Архив БД//Юдаев\\ДирПроцесс;      0.521; err_number = 0;\n",
      "//dprcdbpt/UOIP_FILES/Архив БД//Юдаев\\Журал операций А-клуб;     72.722; err_number = 0;\n",
      "//dprcdbpt/UOIP_FILES/Архив БД//Юдаев\\Календарь 2017.jpg;      0.000; err_number = 0;\n",
      "//dprcdbpt/UOIP_FILES/Архив БД//Юдаев\\Календарь 2018.jpg;      0.000; err_number = 0;\n",
      "//dprcdbpt/UOIP_FILES/Архив БД//Юдаев\\Кл-ок;     11.361; err_number = 0;\n",
      "//dprcdbpt/UOIP_FILES/Архив БД//Юдаев\\Конкурс НН;    149.453; err_number = 0;\n",
      "//dprcdbpt/UOIP_FILES/Архив БД//Юдаев\\Копия Основные показатели 2016.xlsm;      0.000; err_number = 0;\n",
      "//dprcdbpt/UOIP_FILES/Архив БД//Юдаев\\Модель операций в отделениях;    260.313; err_number = 0;\n",
      "//dprcdbpt/UOIP_FILES/Архив БД//Юдаев\\Мотивация Самара ККО Улица Победы;     14.207; err_number = 0;\n",
      "//dprcdbpt/UOIP_FILES/Архив БД//Юдаев\\Набор операций;    186.753; err_number = 0;\n",
      "//dprcdbpt/UOIP_FILES/Архив БД//Юдаев\\ОБ ше;     10.867; err_number = 0;\n",
      "//dprcdbpt/UOIP_FILES/Архив БД//Юдаев\\Основные показатели 2016.xlsm;      0.000; err_number = 0;\n",
      "//dprcdbpt/UOIP_FILES/Архив БД//Юдаев\\Отпуск Аналитики 2017.xlsx;      0.000; err_number = 0;\n",
      "//dprcdbpt/UOIP_FILES/Архив БД//Юдаев\\Памятка новому сотрудн.docx;      0.000; err_number = 0;\n",
      "//dprcdbpt/UOIP_FILES/Архив БД//Юдаев\\платежи рубли;    764.790; err_number = 0;\n",
      "//dprcdbpt/UOIP_FILES/Архив БД//Юдаев\\Платежи ЮЛ;      0.117; err_number = 0;\n",
      "//dprcdbpt/UOIP_FILES/Архив БД//Юдаев\\Пропускная способность;    408.002; err_number = 0;\n",
      "//dprcdbpt/UOIP_FILES/Архив БД//Юдаев\\Профиль клиента;    293.469; err_number = 0;\n",
      "//dprcdbpt/UOIP_FILES/Архив БД//Юдаев\\Профиль клиента Каналы+Тип операции+Сегмент;     23.831; err_number = 0;\n",
      "//dprcdbpt/UOIP_FILES/Архив БД//Юдаев\\ПУРМС;      0.001; err_number = 0;\n",
      "//dprcdbpt/UOIP_FILES/Архив БД//Юдаев\\ревизия сервера;      0.060; err_number = 0;\n",
      "//dprcdbpt/UOIP_FILES/Архив БД//Юдаев\\СКРБ платежи;    102.112; err_number = 0;\n",
      "//dprcdbpt/UOIP_FILES/Архив БД//Юдаев\\стоимость подразделений;    116.813; err_number = 0;\n",
      "//dprcdbpt/UOIP_FILES/Архив БД//Юдаев\\Стоимость процесса;     28.842; err_number = 0;\n",
      "//dprcdbpt/UOIP_FILES/Архив БД//Юдаев\\Субсчета.xlsx;      0.000; err_number = 0;\n",
      "//dprcdbpt/UOIP_FILES/Архив БД//Юдаев\\ТРИЗ;      0.042; err_number = 0;\n",
      "//dprcdbpt/UOIP_FILES/Архив БД//Юдаев\\УС;    115.406; err_number = 0;\n",
      "//dprcdbpt/UOIP_FILES/Архив БД//Юдаев\\Экономика;      0.021; err_number = 0;\n"
     ]
    }
   ],
   "source": [
    "subnames = os.listdir(basedir)\n",
    "for subname in subnames:\n",
    "    sub_size = 0\n",
    "    err_cnt = 0\n",
    "    subpath =os.path.join(basedir, subname)\n",
    "    for path, subdirs, files in os.walk(subpath):\n",
    "        for file in files:\n",
    "            filename = os.path.join(path, file)\n",
    "            try:\n",
    "                sub_size += os.path.getsize(filename) /1024 /1024 #/1024  \n",
    "            except:\n",
    "                err_cnt += 1 #счетчик ошибок открытия файлов\n",
    "    print(subpath + '; ' + \"%10.3f\" % (sub_size) + '; err_number = ' + str(err_cnt) + ';')"
   ]
  },
  {
   "cell_type": "code",
   "execution_count": null,
   "metadata": {
    "collapsed": true
   },
   "outputs": [],
   "source": []
  }
 ],
 "metadata": {
  "anaconda-cloud": {},
  "kernelspec": {
   "display_name": "Python [default]",
   "language": "python",
   "name": "python3"
  },
  "language_info": {
   "codemirror_mode": {
    "name": "ipython",
    "version": 3
   },
   "file_extension": ".py",
   "mimetype": "text/x-python",
   "name": "python",
   "nbconvert_exporter": "python",
   "pygments_lexer": "ipython3",
   "version": "3.5.2"
  }
 },
 "nbformat": 4,
 "nbformat_minor": 2
}
