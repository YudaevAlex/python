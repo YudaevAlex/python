{
 "cells": [
  {
   "cell_type": "code",
   "execution_count": 5,
   "metadata": {},
   "outputs": [
    {
     "name": "stdout",
     "output_type": "stream",
     "text": [
      "temp_df_0.xlsx\n",
      "temp_df_1.xlsx\n",
      "temp_df_2.xlsx\n",
      "temp_df_3.xlsx\n",
      "temp_df_4.xlsx\n",
      "temp_df_5.xlsx\n",
      "temp_df_6.xlsx\n",
      "temp_df_7.xlsx\n",
      "temp_df_8.xlsx\n"
     ]
    }
   ],
   "source": [
    "import pandas as pd\n",
    "import numpy as np\n",
    "import os\n",
    "\n",
    "all_df = pd.DataFrame()\n",
    "\n",
    "for i in os.listdir('//dprcdbpt/UOIP_FILES/Архив БД/Dashboard_source/IB/IB_2017_11'):\n",
    "    print (i)\n",
    "    temp_df = pd.read_excel('//dprcdbpt/UOIP_FILES/Архив БД/Dashboard_source/IB/IB_2017_11/{}'.format(i), encoding='utf-8')\n",
    "    all_df = pd.concat([all_df, temp_df], axis=0)"
   ]
  },
  {
   "cell_type": "code",
   "execution_count": 7,
   "metadata": {},
   "outputs": [],
   "source": [
    "all_df.to_excel('//dprcdbpt/UOIP_FILES/Архив БД/Dashboard_source/IB/IB_2017_11/all.xlsx', index=False)"
   ]
  },
  {
   "cell_type": "code",
   "execution_count": null,
   "metadata": {
    "collapsed": true
   },
   "outputs": [],
   "source": []
  }
 ],
 "metadata": {
  "kernelspec": {
   "display_name": "Python 3",
   "language": "python",
   "name": "python3"
  },
  "language_info": {
   "codemirror_mode": {
    "name": "ipython",
    "version": 3
   },
   "file_extension": ".py",
   "mimetype": "text/x-python",
   "name": "python",
   "nbconvert_exporter": "python",
   "pygments_lexer": "ipython3",
   "version": "3.6.2"
  }
 },
 "nbformat": 4,
 "nbformat_minor": 2
}
